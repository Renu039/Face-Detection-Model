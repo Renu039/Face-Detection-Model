{
 "cells": [
  {
   "cell_type": "markdown",
   "id": "138abc02-25a4-4d9e-b818-03b732d181e0",
   "metadata": {},
   "source": [
    "# Importing Modules"
   ]
  },
  {
   "cell_type": "code",
   "execution_count": 1,
   "id": "2819f720-daf4-456d-b87f-805073fd0599",
   "metadata": {},
   "outputs": [],
   "source": [
    "import cv2"
   ]
  },
  {
   "cell_type": "code",
   "execution_count": 2,
   "id": "b4beb139-ebac-41f8-9e2f-f84499832cbb",
   "metadata": {},
   "outputs": [
    {
     "data": {
      "text/plain": [
       "'4.8.0'"
      ]
     },
     "execution_count": 2,
     "metadata": {},
     "output_type": "execute_result"
    }
   ],
   "source": [
    "cv2.__version__"
   ]
  },
  {
   "cell_type": "code",
   "execution_count": 3,
   "id": "fa380f75-429e-4bc0-afae-ed8c278994a3",
   "metadata": {},
   "outputs": [],
   "source": [
    "# !pip install opencv-python==4.8.0.76"
   ]
  },
  {
   "cell_type": "markdown",
   "id": "6fede408-ce94-4326-9c02-97d271ea246b",
   "metadata": {},
   "source": [
    "# Loading Har Cascade Frontal Face File"
   ]
  },
  {
   "cell_type": "code",
   "execution_count": 4,
   "id": "617d0a3b-6a24-4303-840e-a828dafaa5db",
   "metadata": {},
   "outputs": [],
   "source": [
    "image_path = r\"C:\\Users\\RENU\\OneDrive\\Desktop\\desktop-wallpaper-chhichhore-hindi-movie-chhichhore.jpg\"\n",
    "harcascade_file_path = 'haarcascade_frontalface_alt2.xml'"
   ]
  },
  {
   "cell_type": "markdown",
   "id": "2972e0d8-0743-48ac-8a0a-ced2e6d81afa",
   "metadata": {},
   "source": [
    "## Loading A Image To Detect Image"
   ]
  },
  {
   "cell_type": "code",
   "execution_count": 5,
   "id": "ce7aeb0c-0abd-4a12-ae3e-d84ccdce50f0",
   "metadata": {},
   "outputs": [],
   "source": [
    "image = cv2.imread(image_path)"
   ]
  },
  {
   "cell_type": "code",
   "execution_count": 6,
   "id": "4e44829c-7393-492c-b37f-3017c401111f",
   "metadata": {},
   "outputs": [
    {
     "data": {
      "text/plain": [
       "(478, 850, 3)"
      ]
     },
     "execution_count": 6,
     "metadata": {},
     "output_type": "execute_result"
    }
   ],
   "source": [
    "image.shape"
   ]
  },
  {
   "cell_type": "code",
   "execution_count": 7,
   "id": "dc1f95d9-f5c2-4532-950b-eb7bc5d41ce3",
   "metadata": {},
   "outputs": [],
   "source": [
    "def show_image(image):\n",
    "    cv2.imshow('Image',image)\n",
    "    cv2.waitKey(0)\n",
    "    cv2.destroyAllWindows()"
   ]
  },
  {
   "cell_type": "code",
   "execution_count": 8,
   "id": "dcdc8d37-a151-43b3-8538-d395493ebedc",
   "metadata": {},
   "outputs": [],
   "source": [
    "show_image(image)"
   ]
  },
  {
   "cell_type": "markdown",
   "id": "259183af-bf70-4ae8-ba4b-08ba069e0e2c",
   "metadata": {},
   "source": [
    "## Converting The Image To Black And White For Better Face Detection"
   ]
  },
  {
   "cell_type": "code",
   "execution_count": 9,
   "id": "ce58def9-6818-46db-b6e8-aad6d4c9fb1a",
   "metadata": {},
   "outputs": [],
   "source": [
    "grey_image = cv2.cvtColor(image,cv2.COLOR_BGR2GRAY)"
   ]
  },
  {
   "cell_type": "code",
   "execution_count": 10,
   "id": "a257178a-7cde-4375-a7ff-918699726592",
   "metadata": {},
   "outputs": [
    {
     "data": {
      "text/plain": [
       "(478, 850)"
      ]
     },
     "execution_count": 10,
     "metadata": {},
     "output_type": "execute_result"
    }
   ],
   "source": [
    "grey_image.shape"
   ]
  },
  {
   "cell_type": "code",
   "execution_count": 11,
   "id": "caa23114-8ee2-4f3f-ba4e-f2936088e09d",
   "metadata": {},
   "outputs": [],
   "source": [
    "cascade_classifier = cv2.CascadeClassifier(\"C:/Users/RENU/Downloads/haarcascade_frontalface_alt2.xml\")"
   ]
  },
  {
   "cell_type": "markdown",
   "id": "c4353d2c-dafe-4711-bc91-2e4e4ebd60c9",
   "metadata": {},
   "source": [
    "## Detecting Face and Storing Into A Variable"
   ]
  },
  {
   "cell_type": "code",
   "execution_count": 12,
   "id": "488f71dd-159e-446c-a4aa-0c9eff4cc32f",
   "metadata": {},
   "outputs": [],
   "source": [
    "faces = cascade_classifier.detectMultiScale(grey_image)"
   ]
  },
  {
   "cell_type": "code",
   "execution_count": 13,
   "id": "3fa239b6-73b0-4310-833c-23390a6059df",
   "metadata": {},
   "outputs": [],
   "source": [
    "x,y,w,h = faces[0]"
   ]
  },
  {
   "cell_type": "code",
   "execution_count": 14,
   "id": "75341019-37b8-4283-ae4d-fde4a34f9d7b",
   "metadata": {},
   "outputs": [],
   "source": [
    "face = grey_image[y:y + h, x:x + w]"
   ]
  },
  {
   "cell_type": "code",
   "execution_count": 15,
   "id": "7b4f395d-4420-4606-a9ab-df28d57e37f7",
   "metadata": {},
   "outputs": [],
   "source": [
    "show_image(face)"
   ]
  },
  {
   "cell_type": "markdown",
   "id": "309f1eca-4006-4c7d-b955-e5c576a5bdba",
   "metadata": {},
   "source": [
    "## Drawing Rectangle On Each Face"
   ]
  },
  {
   "cell_type": "code",
   "execution_count": 16,
   "id": "9e0638e7-cc5e-4abd-b827-a19401f5ee75",
   "metadata": {},
   "outputs": [],
   "source": [
    "for x, y, w, h in faces:\n",
    "    cv2.rectangle(image,(x, y),(x + w, y + h),(0,0,255),2)"
   ]
  },
  {
   "cell_type": "code",
   "execution_count": null,
   "id": "ba4e8f69-affc-41a2-ae7d-fca4cb65369a",
   "metadata": {},
   "outputs": [],
   "source": [
    "show_image(image)"
   ]
  },
  {
   "cell_type": "code",
   "execution_count": null,
   "id": "e9892b96-2f22-43e8-b6f8-ddd2f27f77d1",
   "metadata": {},
   "outputs": [],
   "source": [
    "camera = cv2.VideoCapture(0)\n",
    "while True:\n",
    "    __,frame = camera.read()\n",
    "    grey_image = cv2.cvtColor(frame,cv2.COLOR_BGR2GRAY)\n",
    "    faces = cascade_classifier.detectMultiScale(grey_image,1.5)\n",
    "    for x,y,w,h in faces:\n",
    "        cv2.rectangle(frame,(X,Y),(x+w,y+h),(0,0,255),2)\n",
    "    cv2.imshow('My Image',frame)\n",
    "    if cv2.waitKey(1)==ord('q'):\n",
    "        break\n",
    "camera.release()\n",
    "cv2.destroyAllWindow()"
   ]
  },
  {
   "cell_type": "code",
   "execution_count": null,
   "id": "9c7b7c81-f2ec-43ff-9235-83e607d94aed",
   "metadata": {},
   "outputs": [],
   "source": [
    "camera.release()\n",
    "cv2.destroyAllWindow()"
   ]
  },
  {
   "cell_type": "code",
   "execution_count": null,
   "id": "4f7ee2c5-0558-46a6-af67-d9edf66becea",
   "metadata": {},
   "outputs": [],
   "source": []
  },
  {
   "cell_type": "code",
   "execution_count": null,
   "id": "1c989d36-45f4-41da-a65b-4c67616301df",
   "metadata": {},
   "outputs": [],
   "source": []
  },
  {
   "cell_type": "code",
   "execution_count": null,
   "id": "7c779ff2-e162-4344-a64a-b1998efae262",
   "metadata": {},
   "outputs": [],
   "source": []
  },
  {
   "cell_type": "code",
   "execution_count": null,
   "id": "ee8e832e-e42c-40d0-9f7e-6c948dc5d557",
   "metadata": {},
   "outputs": [],
   "source": []
  },
  {
   "cell_type": "code",
   "execution_count": null,
   "id": "4c21b6a9-14bb-4544-8ac1-ceaee735a24a",
   "metadata": {},
   "outputs": [],
   "source": []
  },
  {
   "cell_type": "code",
   "execution_count": null,
   "id": "5da268a7-2264-45d8-8540-749a688022bb",
   "metadata": {},
   "outputs": [],
   "source": []
  },
  {
   "cell_type": "code",
   "execution_count": null,
   "id": "d28e5575-baab-4913-97ff-7a4ca344adb6",
   "metadata": {},
   "outputs": [],
   "source": []
  },
  {
   "cell_type": "code",
   "execution_count": null,
   "id": "178fb7d1-a001-411e-9275-a26840211387",
   "metadata": {},
   "outputs": [],
   "source": []
  },
  {
   "cell_type": "code",
   "execution_count": null,
   "id": "d9d69607-a26a-4f7c-a329-c8849af26846",
   "metadata": {},
   "outputs": [],
   "source": []
  },
  {
   "cell_type": "code",
   "execution_count": null,
   "id": "ab7573f1-d7a7-44ca-8f65-a9a2bd0c00d0",
   "metadata": {},
   "outputs": [],
   "source": []
  },
  {
   "cell_type": "code",
   "execution_count": null,
   "id": "d01b7725-7953-4b70-a0cc-0ec005fdff1f",
   "metadata": {},
   "outputs": [],
   "source": []
  },
  {
   "cell_type": "code",
   "execution_count": null,
   "id": "d15aecdd-b458-4eeb-8567-66f2246b9c22",
   "metadata": {},
   "outputs": [],
   "source": []
  },
  {
   "cell_type": "code",
   "execution_count": null,
   "id": "8a5030ca-d340-4d8c-a854-b8bb2293d272",
   "metadata": {},
   "outputs": [],
   "source": []
  },
  {
   "cell_type": "code",
   "execution_count": null,
   "id": "2e24a5b6-2e95-4662-b2d5-b7b10fc0cf87",
   "metadata": {},
   "outputs": [],
   "source": []
  },
  {
   "cell_type": "code",
   "execution_count": null,
   "id": "7ca2b066-89a0-43bd-9b44-a619a739114d",
   "metadata": {},
   "outputs": [],
   "source": []
  },
  {
   "cell_type": "code",
   "execution_count": null,
   "id": "71abcd43-6ef6-43d5-bf31-1cc1abefbdac",
   "metadata": {},
   "outputs": [],
   "source": []
  },
  {
   "cell_type": "code",
   "execution_count": null,
   "id": "11ba9afc-b25b-435a-a55f-e5abd76129d0",
   "metadata": {},
   "outputs": [],
   "source": []
  },
  {
   "cell_type": "code",
   "execution_count": null,
   "id": "86186108-1778-4dff-9bb9-f97c772b51d9",
   "metadata": {},
   "outputs": [],
   "source": []
  },
  {
   "cell_type": "code",
   "execution_count": null,
   "id": "c52d1e7e-a22d-4fa7-b0f9-e94b30c58079",
   "metadata": {},
   "outputs": [],
   "source": []
  },
  {
   "cell_type": "code",
   "execution_count": null,
   "id": "1a86d3d5-872e-45fc-ad01-4f564bd1ab52",
   "metadata": {},
   "outputs": [],
   "source": []
  },
  {
   "cell_type": "code",
   "execution_count": null,
   "id": "a2dae891-3a43-40ac-81b8-090c769c3661",
   "metadata": {},
   "outputs": [],
   "source": []
  },
  {
   "cell_type": "code",
   "execution_count": null,
   "id": "d2ec247e-b54a-4c22-a866-54acc246a2ec",
   "metadata": {},
   "outputs": [],
   "source": []
  },
  {
   "cell_type": "code",
   "execution_count": null,
   "id": "5ee5847f-8b12-4bee-961b-f3bede6705c3",
   "metadata": {},
   "outputs": [],
   "source": []
  },
  {
   "cell_type": "code",
   "execution_count": null,
   "id": "3ff61449-465e-4e2e-a662-b2128983d030",
   "metadata": {},
   "outputs": [],
   "source": []
  },
  {
   "cell_type": "code",
   "execution_count": null,
   "id": "1b1699c6-c90a-41ef-8843-7f5365e3fc6c",
   "metadata": {},
   "outputs": [],
   "source": []
  },
  {
   "cell_type": "code",
   "execution_count": null,
   "id": "bc3bbe44-88a2-4024-a91c-7599b2768f80",
   "metadata": {},
   "outputs": [],
   "source": []
  },
  {
   "cell_type": "code",
   "execution_count": null,
   "id": "12dcc381-0178-413c-ba18-c42807284aa9",
   "metadata": {},
   "outputs": [],
   "source": []
  },
  {
   "cell_type": "code",
   "execution_count": null,
   "id": "dde7f0fe-5281-4f5c-9757-cbae6dd9c928",
   "metadata": {},
   "outputs": [],
   "source": []
  },
  {
   "cell_type": "code",
   "execution_count": null,
   "id": "29fd7d8b-a699-4e3e-976d-6defd346ef64",
   "metadata": {},
   "outputs": [],
   "source": []
  },
  {
   "cell_type": "code",
   "execution_count": null,
   "id": "f451d14b-ff75-4efc-a7fc-1edb1598ce5c",
   "metadata": {},
   "outputs": [],
   "source": []
  },
  {
   "cell_type": "code",
   "execution_count": null,
   "id": "6b91cd5e-4085-4ae9-a5cb-d40a87a975ff",
   "metadata": {},
   "outputs": [],
   "source": []
  },
  {
   "cell_type": "code",
   "execution_count": null,
   "id": "650cf423-1685-4378-82ca-6bfd79d43515",
   "metadata": {},
   "outputs": [],
   "source": []
  }
 ],
 "metadata": {
  "kernelspec": {
   "display_name": "Python 3 (ipykernel)",
   "language": "python",
   "name": "python3"
  },
  "language_info": {
   "codemirror_mode": {
    "name": "ipython",
    "version": 3
   },
   "file_extension": ".py",
   "mimetype": "text/x-python",
   "name": "python",
   "nbconvert_exporter": "python",
   "pygments_lexer": "ipython3",
   "version": "3.12.7"
  }
 },
 "nbformat": 4,
 "nbformat_minor": 5
}
